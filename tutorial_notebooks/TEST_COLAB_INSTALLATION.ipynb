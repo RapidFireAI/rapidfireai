{
 "cells": [
  {
   "cell_type": "markdown",
   "metadata": {
    "id": "title"
   },
   "source": [
    "# RapidFire AI - Colab Installation Test\n",
    "\n",
    "This notebook tests the Google Colab support implementation.\n",
    "\n",
    "**Branch**: `feat/enable-colab`"
   ]
  },
  {
   "cell_type": "markdown",
   "metadata": {
    "id": "check-environment"
   },
   "source": [
    "## 1. Check Environment"
   ]
  },
  {
   "cell_type": "code",
   "execution_count": null,
   "metadata": {
    "id": "check-gpu"
   },
   "outputs": [],
   "source": [
    "# Check GPU\n",
    "!nvidia-smi\n",
    "\n",
    "# Check Python version\n",
    "import sys\n",
    "print(f\"\\nPython version: {sys.version}\")\n",
    "\n",
    "# Check if in Colab\n",
    "try:\n",
    "    import google.colab\n",
    "    print(\"✅ Running in Google Colab\")\n",
    "    IN_COLAB = True\n",
    "except ImportError:\n",
    "    print(\"❌ NOT running in Google Colab\")\n",
    "    IN_COLAB = False"
   ]
  },
  {
   "cell_type": "markdown",
   "metadata": {
    "id": "install"
   },
   "source": [
    "## 2. Install RapidFire from GitHub Branch\n",
    "\n",
    "Installing from `feat/enable-colab` branch..."
   ]
  },
  {
   "cell_type": "code",
   "execution_count": null,
   "metadata": {
    "id": "install-rapidfire"
   },
   "outputs": [],
   "source": [
    "# Install from GitHub branch\n",
    "!pip install -q git+https://github.com/RapidFireAI/rapidfireai.git@feat/enable-colab\n",
    "\n",
    "print(\"\\n\" + \"=\"*60)\n",
    "print(\"Installation complete!\")\n",
    "print(\"=\"*60)"
   ]
  },
  {
   "cell_type": "markdown",
   "metadata": {
    "id": "verify"
   },
   "source": [
    "## 3. Verify Installation"
   ]
  },
  {
   "cell_type": "code",
   "execution_count": null,
   "metadata": {
    "id": "verify-install"
   },
   "outputs": [],
   "source": [
    "# Check version\n",
    "!rapidfireai --version\n",
    "\n",
    "# Check if command exists\n",
    "import subprocess\n",
    "result = subprocess.run(['which', 'rapidfireai'], capture_output=True, text=True)\n",
    "print(f\"\\nRapidFire CLI location: {result.stdout.strip()}\")\n",
    "\n",
    "# Try importing modules\n",
    "print(\"\\nImporting modules...\")\n",
    "try:\n",
    "    from rapidfireai.utils.colab_helper import (\n",
    "        is_colab,\n",
    "        get_notebook_environment,\n",
    "        expose_port_native,\n",
    "        setup_cloudflare_tunnel,\n",
    "        expose_rapidfire_services\n",
    "    )\n",
    "    print(\"✅ colab_helper module imported successfully\")\n",
    "except ImportError as e:\n",
    "    print(f\"❌ Failed to import colab_helper: {e}\")\n",
    "\n",
    "try:\n",
    "    from rapidfireai import Experiment\n",
    "    print(\"✅ Experiment class imported successfully\")\n",
    "except ImportError as e:\n",
    "    print(f\"❌ Failed to import Experiment: {e}\")"
   ]
  },
  {
   "cell_type": "markdown",
   "metadata": {
    "id": "test-detection"
   },
   "source": [
    "## 4. Test Environment Detection"
   ]
  },
  {
   "cell_type": "code",
   "execution_count": null,
   "metadata": {
    "id": "test-env-detection"
   },
   "outputs": [],
   "source": [
    "from rapidfireai.utils.colab_helper import is_colab, is_kaggle, get_notebook_environment\n",
    "\n",
    "print(\"Environment Detection:\")\n",
    "print(f\"  is_colab(): {is_colab()}\")\n",
    "print(f\"  is_kaggle(): {is_kaggle()}\")\n",
    "print(f\"  get_notebook_environment(): {get_notebook_environment()}\")\n",
    "\n",
    "if is_colab():\n",
    "    print(\"\\n✅ Colab environment detected correctly!\")\n",
    "else:\n",
    "    print(\"\\n⚠️ Colab environment NOT detected (are you in Colab?)\")"
   ]
  },
  {
   "cell_type": "markdown",
   "metadata": {
    "id": "test-port-forwarding"
   },
   "source": [
    "## 5. Test Port Forwarding Functions\n",
    "\n",
    "Test that the port forwarding functions exist and can be called."
   ]
  },
  {
   "cell_type": "code",
   "execution_count": null,
   "metadata": {
    "id": "test-functions"
   },
   "outputs": [],
   "source": [
    "from rapidfireai.utils.colab_helper import (\n",
    "    expose_port_native,\n",
    "    expose_port_iframe,\n",
    "    setup_cloudflare_tunnel,\n",
    "    setup_ngrok_tunnel\n",
    ")\n",
    "\n",
    "print(\"Testing function availability:\")\n",
    "print(f\"  expose_port_native: {callable(expose_port_native)}\")\n",
    "print(f\"  expose_port_iframe: {callable(expose_port_iframe)}\")\n",
    "print(f\"  setup_cloudflare_tunnel: {callable(setup_cloudflare_tunnel)}\")\n",
    "print(f\"  setup_ngrok_tunnel: {callable(setup_ngrok_tunnel)}\")\n",
    "\n",
    "print(\"\\n✅ All port forwarding functions are available\")"
   ]
  },
  {
   "cell_type": "markdown",
   "metadata": {
    "id": "test-cli"
   },
   "source": [
    "## 6. Test CLI --colab Flag"
   ]
  },
  {
   "cell_type": "code",
   "execution_count": null,
   "metadata": {
    "id": "test-cli-help"
   },
   "outputs": [],
   "source": [
    "# Test help to see if --colab flag exists\n",
    "!rapidfireai --help"
   ]
  },
  {
   "cell_type": "markdown",
   "metadata": {
    "id": "test-init"
   },
   "source": [
    "## 7. Test Init Command"
   ]
  },
  {
   "cell_type": "code",
   "execution_count": null,
   "metadata": {
    "id": "test-init-cmd"
   },
   "outputs": [],
   "source": [
    "# Test init (installs dependencies and copies tutorials)\n",
    "!rapidfireai init\n",
    "\n",
    "# Check if tutorial notebooks were copied\n",
    "import os\n",
    "tutorial_path = os.path.join(\".\", \"tutorial_notebooks\")\n",
    "if os.path.exists(tutorial_path):\n",
    "    notebooks = [f for f in os.listdir(tutorial_path) if f.endswith('.ipynb')]\n",
    "    print(f\"\\n✅ Found {len(notebooks)} tutorial notebooks:\")\n",
    "    for nb in notebooks[:5]:  # Show first 5\n",
    "        print(f\"  - {nb}\")\n",
    "    if len(notebooks) > 5:\n",
    "        print(f\"  ... and {len(notebooks) - 5} more\")\n",
    "else:\n",
    "    print(f\"\\n⚠️ Tutorial notebooks not found at {tutorial_path}\")"
   ]
  },
  {
   "cell_type": "markdown",
   "metadata": {
    "id": "dependency-check"
   },
   "source": [
    "## 8. Check Dependency Conflicts"
   ]
  },
  {
   "cell_type": "code",
   "execution_count": null,
   "metadata": {
    "id": "check-deps"
   },
   "outputs": [],
   "source": [
    "# Check for dependency conflicts\n",
    "import subprocess\n",
    "import sys\n",
    "\n",
    "print(\"Checking for dependency conflicts...\\n\")\n",
    "result = subprocess.run(\n",
    "    [sys.executable, '-m', 'pip', 'check'],\n",
    "    capture_output=True,\n",
    "    text=True\n",
    ")\n",
    "\n",
    "if result.returncode == 0:\n",
    "    print(\"✅ No dependency conflicts found!\")\n",
    "else:\n",
    "    print(\"⚠️ Some dependency conflicts exist:\")\n",
    "    print(result.stdout)\n",
    "    print(\"\\nNote: Minor version conflicts with Colab packages are expected and usually safe.\")"
   ]
  },
  {
   "cell_type": "markdown",
   "metadata": {
    "id": "check-packages"
   },
   "source": [
    "## 9. Check Installed Package Versions"
   ]
  },
  {
   "cell_type": "code",
   "execution_count": null,
   "metadata": {
    "id": "show-versions"
   },
   "outputs": [],
   "source": [
    "import subprocess\n",
    "import sys\n",
    "\n",
    "packages = [\n",
    "    'rapidfireai',\n",
    "    'pandas',\n",
    "    'ipython',\n",
    "    'requests',\n",
    "    'torch',\n",
    "    'transformers',\n",
    "    'mlflow',\n",
    "    'flask',\n",
    "    'gunicorn'\n",
    "]\n",
    "\n",
    "print(\"Key package versions:\\n\")\n",
    "for package in packages:\n",
    "    result = subprocess.run(\n",
    "        [sys.executable, '-m', 'pip', 'show', package],\n",
    "        capture_output=True,\n",
    "        text=True\n",
    "    )\n",
    "    if result.returncode == 0:\n",
    "        version_line = [line for line in result.stdout.split('\\n') if line.startswith('Version:')]\n",
    "        if version_line:\n",
    "            version = version_line[0].split(':')[1].strip()\n",
    "            print(f\"  {package}: {version}\")\n",
    "    else:\n",
    "        print(f\"  {package}: NOT INSTALLED\")"
   ]
  },
  {
   "cell_type": "markdown",
   "metadata": {
    "id": "test-services-start"
   },
   "source": [
    "## 10. Test Service Startup (DRY RUN)\n",
    "\n",
    "**Note**: This will actually start the services. You can skip this cell if you just want to test installation."
   ]
  },
  {
   "cell_type": "code",
   "execution_count": null,
   "metadata": {
    "id": "dry-run-start"
   },
   "outputs": [],
   "source": [
    "# Just test that the command is recognized\n",
    "# We won't actually start services here (that's in the next section)\n",
    "\n",
    "import subprocess\n",
    "import sys\n",
    "\n",
    "# Test that the command parses correctly\n",
    "result = subprocess.run(\n",
    "    [sys.executable, '-m', 'rapidfireai.cli', 'start', '--colab', '--help'],\n",
    "    capture_output=True,\n",
    "    text=True,\n",
    "    timeout=5\n",
    ")\n",
    "\n",
    "if '--colab' in result.stdout or '--colab' in result.stderr:\n",
    "    print(\"✅ CLI recognizes --colab flag\")\n",
    "else:\n",
    "    print(\"⚠️ CLI might not recognize --colab flag\")\n",
    "    print(\"Output:\", result.stdout)\n",
    "    print(\"Error:\", result.stderr)"
   ]
  },
  {
   "cell_type": "markdown",
   "metadata": {
    "id": "summary"
   },
   "source": [
    "## ✅ Test Summary\n",
    "\n",
    "If all cells above completed without errors, the installation is successful!\n",
    "\n",
    "### What was tested:\n",
    "- ✅ Package installation from GitHub branch\n",
    "- ✅ CLI command availability\n",
    "- ✅ Module imports (colab_helper, Experiment)\n",
    "- ✅ Environment detection (is_colab)\n",
    "- ✅ Port forwarding function availability\n",
    "- ✅ CLI --colab flag recognition\n",
    "- ✅ Init command (dependencies and tutorials)\n",
    "- ✅ Dependency compatibility\n",
    "\n",
    "### Next Steps:\n",
    "\n",
    "1. **Test actual service startup** (see next section)\n",
    "2. **Test port forwarding** with live services\n",
    "3. **Run a simple experiment** to verify end-to-end functionality"
   ]
  },
  {
   "cell_type": "markdown",
   "metadata": {
    "id": "start-services-section"
   },
   "source": [
    "---\n",
    "\n",
    "## 11. Start RapidFire Services (OPTIONAL)\n",
    "\n",
    "**⚠️ Warning**: This will start services and keep running. Only run this if you want to test the actual service startup.\n",
    "\n",
    "Uncomment and run the cell below to start services:"
   ]
  },
  {
   "cell_type": "code",
   "execution_count": null,
   "metadata": {
    "id": "start-services"
   },
   "outputs": [],
   "source": [
    "# Uncomment to test actual service startup:\n",
    "\n",
    "# !rapidfireai start --colab\n",
    "\n",
    "# Or test with Cloudflare:\n",
    "# !rapidfireai start --colab --tunnel cloudflare\n",
    "\n",
    "print(\"Service startup test skipped (uncomment to run)\")"
   ]
  },
  {
   "cell_type": "markdown",
   "metadata": {
    "id": "test-python-api"
   },
   "source": [
    "## 12. Test Python API (Alternative to CLI)"
   ]
  },
  {
   "cell_type": "code",
   "execution_count": null,
   "metadata": {
    "id": "test-api"
   },
   "outputs": [],
   "source": [
    "# Test the Python API for exposing services\n",
    "from rapidfireai.utils.colab_helper import expose_rapidfire_services\n",
    "\n",
    "print(\"Testing expose_rapidfire_services() function...\\n\")\n",
    "\n",
    "# We won't actually start services, just test the function signature\n",
    "import inspect\n",
    "sig = inspect.signature(expose_rapidfire_services)\n",
    "print(f\"Function signature: {sig}\")\n",
    "\n",
    "params = list(sig.parameters.keys())\n",
    "print(f\"\\nParameters: {params}\")\n",
    "\n",
    "if 'method' in params:\n",
    "    print(\"\\n✅ Python API is available and has correct signature\")\n",
    "else:\n",
    "    print(\"\\n⚠️ Function signature might be incorrect\")"
   ]
  },
  {
   "cell_type": "markdown",
   "metadata": {
    "id": "final-notes"
   },
   "source": [
    "---\n",
    "\n",
    "## 📝 Testing Notes\n",
    "\n",
    "### Known Issues to Watch For:\n",
    "\n",
    "1. **Dependency Conflicts**:\n",
    "   - Minor version conflicts with Colab's pre-installed packages are expected\n",
    "   - Look for: pandas, ipython, requests versions\n",
    "   - These are usually safe if they're close versions\n",
    "\n",
    "2. **Python Version**:\n",
    "   - Colab uses Python 3.10.x\n",
    "   - RapidFire now supports Python >= 3.10\n",
    "   - Should work without issues\n",
    "\n",
    "3. **Port Forwarding**:\n",
    "   - Native Colab forwarding only works in actual Colab environment\n",
    "   - Won't work in local Jupyter or other environments\n",
    "\n",
    "### What to Report:\n",
    "\n",
    "If you encounter issues, please report:\n",
    "- Which cell failed\n",
    "- Full error message\n",
    "- Output of `!rapidfireai --version`\n",
    "- Output of dependency check (cell 8)\n",
    "\n",
    "---\n",
    "\n",
    "**Installation test complete!** 🎉"
   ]
  }
 ],
 "metadata": {
  "colab": {
   "provenance": [],
   "gpuType": "T4"
  },
  "kernelspec": {
   "display_name": "Python 3",
   "name": "python3"
  },
  "language_info": {
   "name": "python"
  },
  "accelerator": "GPU"
 },
 "nbformat": 4,
 "nbformat_minor": 0
}
