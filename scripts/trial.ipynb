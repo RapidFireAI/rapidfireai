{
 "cells": [
  {
   "cell_type": "markdown",
   "id": "498150c7",
   "metadata": {},
   "source": [
    "### Barebones DPO (For setup-testing only)"
   ]
  },
  {
   "cell_type": "code",
   "execution_count": null,
   "id": "7a9251a4",
   "metadata": {},
   "outputs": [],
   "source": [
    "# Import required libraries for DPO (Direct Preference Optimization) training\n",
    "from datasets import load_dataset\n",
    "from trl import DPOConfig, DPOTrainer\n",
    "from transformers import AutoModelForCausalLM, AutoTokenizer\n",
    "\n",
    "# Load the pre-trained Qwen model and tokenizer\n",
    "model_name = \"Qwen/Qwen2-0.5B-Instruct\"\n",
    "model = AutoModelForCausalLM.from_pretrained(model_name)\n",
    "tokenizer = AutoTokenizer.from_pretrained(model_name)\n",
    "\n",
    "# Load and prepare datasets (using subset for faster training)\n",
    "train_dataset = load_dataset(\n",
    "    \"trl-lib/ultrafeedback_binarized\", \n",
    "    split=\"train\"\n",
    ").select(range(800))  # Use only first 1000 samples for demo\n",
    "\n",
    "eval_dataset = load_dataset(\n",
    "    \"trl-lib/ultrafeedback_binarized\", \n",
    "    split=\"test\"\n",
    ").select(range(200))  # Use only first 1000 samples for demo\n",
    "\n",
    "# Configure DPO training parameters\n",
    "training_args = DPOConfig(\n",
    "    output_dir=\"Qwen2-0.5B-DPO\",           # Directory to save model checkpoints\n",
    "    per_device_train_batch_size=4,         # Batch size per GPU/device\n",
    "    max_steps=50,                          # Total training steps\n",
    "    eval_strategy=\"steps\",                 # Evaluate\n",
    "    eval_steps=10,                         # Evaluate every 25 steps\n",
    "    report_to=\"tensorboard\"                # Log metrics to TensorBoard\n",
    ")\n",
    "\n",
    "# Initialize the DPO trainer\n",
    "trainer = DPOTrainer(\n",
    "    model=model,\n",
    "    args=training_args,\n",
    "    processing_class=tokenizer,\n",
    "    train_dataset=train_dataset,\n",
    "    eval_dataset=eval_dataset\n",
    ")\n",
    "\n",
    "# Start training\n",
    "print(\"Starting DPO training...\")\n",
    "trainer.train()\n",
    "print(\"Training completed!\")"
   ]
  }
 ],
 "metadata": {
  "kernelspec": {
   "display_name": "Python (base)",
   "language": "python",
   "name": "base"
  },
  "language_info": {
   "codemirror_mode": {
    "name": "ipython",
    "version": 3
   },
   "file_extension": ".py",
   "mimetype": "text/x-python",
   "name": "python",
   "nbconvert_exporter": "python",
   "pygments_lexer": "ipython3",
   "version": "3.12.11"
  }
 },
 "nbformat": 4,
 "nbformat_minor": 5
}
